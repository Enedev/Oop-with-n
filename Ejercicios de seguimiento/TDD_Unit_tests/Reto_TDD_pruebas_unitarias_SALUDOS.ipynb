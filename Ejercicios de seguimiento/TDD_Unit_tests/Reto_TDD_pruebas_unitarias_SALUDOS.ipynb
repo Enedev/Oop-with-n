{
  "cells": [
    {
      "attachments": {},
      "cell_type": "markdown",
      "metadata": {
        "id": "JhkvuVQiQGny"
      },
      "source": [
        "#RETO 1\n",
        "\n",
        "* Usar TDD para crear un producto de software que pida el nombre del usuario y devuelva el saludo, \"Hola! Su nombre es [nombre_usuario]\" --> 0,3"
      ]
    },
    {
      "cell_type": "code",
      "execution_count": 28,
      "metadata": {
        "colab": {
          "base_uri": "https://localhost:8080/"
        },
        "id": "40rUuFhXP66s",
        "outputId": "478447d9-f4c0-4566-fc19-4c041ab0cb5e"
      },
      "outputs": [
        {
          "name": "stdout",
          "output_type": "stream",
          "text": [
            "\u001b[1m============================= test session starts ==============================\u001b[0m\n",
            "platform linux -- Python 3.10.11, pytest-7.2.2, pluggy-1.0.0 -- /usr/bin/python3\n",
            "cachedir: .pytest_cache\n",
            "rootdir: /content\n",
            "plugins: anyio-3.6.2\n",
            "\u001b[1mcollecting ... \u001b[0m\u001b[1m\rcollected 4 items                                                              \u001b[0m\n",
            "\n",
            "test_saludo.py::TestSaludo::test_saludar \u001b[32mPASSED\u001b[0m\u001b[32m                          [ 25%]\u001b[0m\n",
            "test_saludo.py::TestSaludo::test_saludar_con_numeros \u001b[32mPASSED\u001b[0m\u001b[32m              [ 50%]\u001b[0m\n",
            "test_saludo.py::TestSaludo::test_saludar_numeros_letras \u001b[32mPASSED\u001b[0m\u001b[32m           [ 75%]\u001b[0m\n",
            "test_saludo.py::TestSaludo::test_saludar_booleano \u001b[32mPASSED\u001b[0m\u001b[32m                 [100%]\u001b[0m\n",
            "\n",
            "\u001b[32m============================== \u001b[32m\u001b[1m4 passed\u001b[0m\u001b[32m in 0.02s\u001b[0m\u001b[32m ===============================\u001b[0m\n"
          ]
        }
      ],
      "source": [
        "\n",
        "!pytest -v"
      ]
    },
    {
      "cell_type": "code",
      "execution_count": 26,
      "metadata": {
        "colab": {
          "base_uri": "https://localhost:8080/"
        },
        "id": "2__msza9QmnX",
        "outputId": "7461676e-cec7-4e40-b1a4-45d1965f204f"
      },
      "outputs": [
        {
          "name": "stdout",
          "output_type": "stream",
          "text": [
            "Overwriting test_saludo.py\n"
          ]
        }
      ],
      "source": []
    },
    {
      "cell_type": "code",
      "execution_count": 27,
      "metadata": {
        "colab": {
          "base_uri": "https://localhost:8080/"
        },
        "id": "Bfe5VCWbSIiZ",
        "outputId": "2deba8f2-dd4a-42e5-c146-a405d9200955"
      },
      "outputs": [
        {
          "name": "stdout",
          "output_type": "stream",
          "text": [
            "Overwriting saludo.py\n"
          ]
        }
      ],
      "source": [
        "\n",
        "\n",
        "\n",
        "\n"
      ]
    }
  ],
  "metadata": {
    "colab": {
      "provenance": []
    },
    "kernelspec": {
      "display_name": "Python 3",
      "name": "python3"
    },
    "language_info": {
      "name": "python"
    }
  },
  "nbformat": 4,
  "nbformat_minor": 0
}
