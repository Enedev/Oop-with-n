{
  "cells": [
    {
      "attachments": {},
      "cell_type": "markdown",
      "metadata": {
        "id": "h50hA0UFTj7A"
      },
      "source": [
        "# RETO 2\n",
        "\n",
        "* Crear una clase Palabra que tenga como atributo (letras) una lista de objetos de tipo Letra donde se guardarán palabras letra a letra. Por ejemplo, un objeto de tipo Palabra podría guardar la palabra \"Hola\" en su atributo letras una lista de objetos de tipo letra como [obj1,obj2,obj3,obj4] donde obj1 es un objeto de tipo letra con atributo letra \"H\" y así sucesivamente. \n",
        "* Cree un método de clase que permita saber cuántas vocales tiene un objeto de tipo Palabra. (0.1)\n",
        "* Crre un método de instancia que invierta la palabra almacenada en el objeto Palabra. (0.1)\n",
        "* Cree un conjunto de pruebas para cada componente de esta clase. (0.2)"
      ]
    },
    {
      "cell_type": "code",
      "execution_count": 98,
      "metadata": {
        "colab": {
          "base_uri": "https://localhost:8080/"
        },
        "id": "0Qj_EWhQofLb",
        "outputId": "3715fe28-08e8-440c-a795-dce967395096"
      },
      "outputs": [
        {
          "name": "stdout",
          "output_type": "stream",
          "text": [
            "\u001b[1m============================= test session starts ==============================\u001b[0m\n",
            "platform linux -- Python 3.10.11, pytest-7.2.2, pluggy-1.0.0 -- /usr/bin/python3\n",
            "cachedir: .pytest_cache\n",
            "rootdir: /content\n",
            "plugins: anyio-3.6.2\n",
            "\u001b[1mcollecting ... \u001b[0m\u001b[1m\rcollected 4 items                                                              \u001b[0m\n",
            "\n",
            "test_Palabra.py::TestPalabra::test_contar_vocales \u001b[32mPASSED\u001b[0m\u001b[32m                 [ 25%]\u001b[0m\n",
            "test_palabra.py::TestPalabra::test_convertir \u001b[32mPASSED\u001b[0m\u001b[32m                      [ 50%]\u001b[0m\n",
            "test_palabra.py::TestPalabra::test_contar_vocales \u001b[32mPASSED\u001b[0m\u001b[32m                 [ 75%]\u001b[0m\n",
            "test_palabra.py::TestPalabra::test_invertir_palabra \u001b[32mPASSED\u001b[0m\u001b[32m               [100%]\u001b[0m\n",
            "\n",
            "\u001b[32m============================== \u001b[32m\u001b[1m4 passed\u001b[0m\u001b[32m in 0.02s\u001b[0m\u001b[32m ===============================\u001b[0m\n"
          ]
        }
      ],
      "source": [
        "!pytest -v"
      ]
    },
    {
      "cell_type": "code",
      "execution_count": 97,
      "metadata": {
        "colab": {
          "base_uri": "https://localhost:8080/"
        },
        "id": "O1tUEA1yUyEw",
        "outputId": "67ec25e5-860f-4f68-a7c4-677e99353454"
      },
      "outputs": [
        {
          "name": "stdout",
          "output_type": "stream",
          "text": [
            "Overwriting test_palabra.py\n"
          ]
        }
      ],
      "source": []
    },
    {
      "cell_type": "code",
      "execution_count": null,
      "metadata": {
        "colab": {
          "base_uri": "https://localhost:8080/"
        },
        "id": "cn0RUOTBU3up",
        "outputId": "9cf488a5-af19-4593-ded5-92739058508a"
      },
      "outputs": [
        {
          "name": "stdout",
          "output_type": "stream",
          "text": [
            "Overwriting palabra.py\n"
          ]
        }
      ],
      "source": []
    },
    {
      "cell_type": "code",
      "execution_count": null,
      "metadata": {
        "colab": {
          "base_uri": "https://localhost:8080/"
        },
        "id": "kBCEWu6uazLc",
        "outputId": "35808932-de64-49c4-bf92-43d2e2144bc2"
      },
      "outputs": [
        {
          "name": "stdout",
          "output_type": "stream",
          "text": [
            "Overwriting letra.py\n"
          ]
        }
      ],
      "source": []
    }
  ],
  "metadata": {
    "colab": {
      "provenance": []
    },
    "kernelspec": {
      "display_name": "Python 3",
      "name": "python3"
    },
    "language_info": {
      "name": "python"
    }
  },
  "nbformat": 4,
  "nbformat_minor": 0
}
